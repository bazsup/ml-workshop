{
 "cells": [
  {
   "cell_type": "code",
   "execution_count": 2,
   "metadata": {},
   "outputs": [],
   "source": [
    "import pandas as pd"
   ]
  },
  {
   "cell_type": "code",
   "execution_count": 3,
   "metadata": {},
   "outputs": [],
   "source": [
    "df  = pd.read_csv(\n",
    "   'https://archive.ics.uci.edu/ml/machine-learning-databases/iris/iris.data',\n",
    "    header=None,\n",
    "    names=['sepal_length', 'sepal_width', 'petal_length', 'petal_width', 'class']\n",
    ")"
   ]
  },
  {
   "cell_type": "code",
   "execution_count": 4,
   "metadata": {},
   "outputs": [
    {
     "data": {
      "text/html": [
       "<div>\n",
       "<style scoped>\n",
       "    .dataframe tbody tr th:only-of-type {\n",
       "        vertical-align: middle;\n",
       "    }\n",
       "\n",
       "    .dataframe tbody tr th {\n",
       "        vertical-align: top;\n",
       "    }\n",
       "\n",
       "    .dataframe thead th {\n",
       "        text-align: right;\n",
       "    }\n",
       "</style>\n",
       "<table border=\"1\" class=\"dataframe\">\n",
       "  <thead>\n",
       "    <tr style=\"text-align: right;\">\n",
       "      <th></th>\n",
       "      <th>sepal_length</th>\n",
       "      <th>sepal_width</th>\n",
       "      <th>petal_length</th>\n",
       "      <th>petal_width</th>\n",
       "      <th>class</th>\n",
       "    </tr>\n",
       "  </thead>\n",
       "  <tbody>\n",
       "    <tr>\n",
       "      <th>0</th>\n",
       "      <td>5.1</td>\n",
       "      <td>3.5</td>\n",
       "      <td>1.4</td>\n",
       "      <td>0.2</td>\n",
       "      <td>Iris-setosa</td>\n",
       "    </tr>\n",
       "    <tr>\n",
       "      <th>1</th>\n",
       "      <td>4.9</td>\n",
       "      <td>3.0</td>\n",
       "      <td>1.4</td>\n",
       "      <td>0.2</td>\n",
       "      <td>Iris-setosa</td>\n",
       "    </tr>\n",
       "    <tr>\n",
       "      <th>2</th>\n",
       "      <td>4.7</td>\n",
       "      <td>3.2</td>\n",
       "      <td>1.3</td>\n",
       "      <td>0.2</td>\n",
       "      <td>Iris-setosa</td>\n",
       "    </tr>\n",
       "    <tr>\n",
       "      <th>3</th>\n",
       "      <td>4.6</td>\n",
       "      <td>3.1</td>\n",
       "      <td>1.5</td>\n",
       "      <td>0.2</td>\n",
       "      <td>Iris-setosa</td>\n",
       "    </tr>\n",
       "    <tr>\n",
       "      <th>4</th>\n",
       "      <td>5.0</td>\n",
       "      <td>3.6</td>\n",
       "      <td>1.4</td>\n",
       "      <td>0.2</td>\n",
       "      <td>Iris-setosa</td>\n",
       "    </tr>\n",
       "  </tbody>\n",
       "</table>\n",
       "</div>"
      ],
      "text/plain": [
       "   sepal_length  sepal_width  petal_length  petal_width        class\n",
       "0           5.1          3.5           1.4          0.2  Iris-setosa\n",
       "1           4.9          3.0           1.4          0.2  Iris-setosa\n",
       "2           4.7          3.2           1.3          0.2  Iris-setosa\n",
       "3           4.6          3.1           1.5          0.2  Iris-setosa\n",
       "4           5.0          3.6           1.4          0.2  Iris-setosa"
      ]
     },
     "execution_count": 4,
     "metadata": {},
     "output_type": "execute_result"
    }
   ],
   "source": [
    "df.head()"
   ]
  },
  {
   "cell_type": "code",
   "execution_count": null,
   "metadata": {},
   "outputs": [],
   "source": []
  },
  {
   "cell_type": "code",
   "execution_count": 7,
   "metadata": {},
   "outputs": [
    {
     "data": {
      "image/png": "[encoded data removed]",
      "text/plain": [
       "<Figure size 432x288 with 4 Axes>"
      ]
     },
     "metadata": {
      "needs_background": "light"
     },
     "output_type": "display_data"
    }
   ],
   "source": [
    "df.boxplot(by='class');"
   ]
  },
  {
   "cell_type": "code",
   "execution_count": 9,
   "metadata": {},
   "outputs": [],
   "source": [
    "selected_column = ['sepal_length', 'sepal_width', 'petal_length', 'petal_width']"
   ]
  },
  {
   "cell_type": "code",
   "execution_count": 10,
   "metadata": {},
   "outputs": [],
   "source": [
    "X = df[selected_column]\n",
    "y = df['class']"
   ]
  },
  {
   "cell_type": "code",
   "execution_count": 11,
   "metadata": {},
   "outputs": [],
   "source": [
    "from sklearn.model_selection import cross_val_score"
   ]
  },
  {
   "cell_type": "code",
   "execution_count": 12,
   "metadata": {},
   "outputs": [],
   "source": [
    "from sklearn.neighbors import KNeighborsClassifier"
   ]
  },
  {
   "cell_type": "code",
   "execution_count": 13,
   "metadata": {},
   "outputs": [],
   "source": [
    "knn = KNeighborsClassifier(n_neighbors=5)"
   ]
  },
  {
   "cell_type": "code",
   "execution_count": 15,
   "metadata": {},
   "outputs": [],
   "source": [
    "from sklearn.model_selection import cross_val_score\n",
    "scores = cross_val_score(knn, X, y, cv=5)\n",
    "# cv is fold"
   ]
  },
  {
   "cell_type": "code",
   "execution_count": 16,
   "metadata": {},
   "outputs": [
    {
     "data": {
      "text/plain": [
       "array([0.96666667, 1.        , 0.93333333, 0.96666667, 1.        ])"
      ]
     },
     "execution_count": 16,
     "metadata": {},
     "output_type": "execute_result"
    }
   ],
   "source": [
    "scores"
   ]
  },
  {
   "cell_type": "code",
   "execution_count": 17,
   "metadata": {},
   "outputs": [
    {
     "data": {
      "text/plain": [
       "0.9733333333333334"
      ]
     },
     "execution_count": 17,
     "metadata": {},
     "output_type": "execute_result"
    }
   ],
   "source": [
    "scores.mean()"
   ]
  },
  {
   "cell_type": "code",
   "execution_count": 18,
   "metadata": {},
   "outputs": [
    {
     "data": {
      "text/plain": [
       "0.9466666666666665"
      ]
     },
     "execution_count": 18,
     "metadata": {},
     "output_type": "execute_result"
    }
   ],
   "source": [
    "knn = KNeighborsClassifier(n_neighbors=2)\n",
    "scores = cross_val_score(knn, X, y, cv=5)\n",
    "scores.mean()"
   ]
  },
  {
   "cell_type": "code",
   "execution_count": 19,
   "metadata": {},
   "outputs": [
    {
     "data": {
      "text/plain": [
       "0.9666666666666668"
      ]
     },
     "execution_count": 19,
     "metadata": {},
     "output_type": "execute_result"
    }
   ],
   "source": [
    "knn = KNeighborsClassifier(n_neighbors=3)\n",
    "scores = cross_val_score(knn, X, y, cv=5)\n",
    "scores.mean()"
   ]
  },
  {
   "cell_type": "code",
   "execution_count": 20,
   "metadata": {},
   "outputs": [
    {
     "data": {
      "text/plain": [
       "0.9733333333333334"
      ]
     },
     "execution_count": 20,
     "metadata": {},
     "output_type": "execute_result"
    }
   ],
   "source": [
    "knn = KNeighborsClassifier(n_neighbors=4)\n",
    "scores = cross_val_score(knn, X, y, cv=5)\n",
    "scores.mean()"
   ]
  },
  {
   "cell_type": "code",
   "execution_count": 21,
   "metadata": {},
   "outputs": [
    {
     "data": {
      "text/plain": [
       "0.9800000000000001"
      ]
     },
     "execution_count": 21,
     "metadata": {},
     "output_type": "execute_result"
    }
   ],
   "source": [
    "knn = KNeighborsClassifier(n_neighbors=6)\n",
    "scores = cross_val_score(knn, X, y, cv=5) # knn was trained here in cross_val_score function\n",
    "scores.mean()"
   ]
  },
  {
   "cell_type": "code",
   "execution_count": 22,
   "metadata": {},
   "outputs": [
    {
     "data": {
      "text/plain": [
       "KNeighborsClassifier(algorithm='auto', leaf_size=30, metric='minkowski',\n",
       "           metric_params=None, n_jobs=None, n_neighbors=6, p=2,\n",
       "           weights='uniform')"
      ]
     },
     "execution_count": 22,
     "metadata": {},
     "output_type": "execute_result"
    }
   ],
   "source": [
    "knn"
   ]
  },
  {
   "cell_type": "code",
   "execution_count": 23,
   "metadata": {},
   "outputs": [],
   "source": [
    "from sklearn.model_selection import GridSearchCV"
   ]
  },
  {
   "cell_type": "code",
   "execution_count": 50,
   "metadata": {},
   "outputs": [],
   "source": [
    "param_grid = {\n",
    "    'n_neighbors': [1, 2, 3, 4, 5, 6],\n",
    "    'weights': ['uniform', 'distance'],\n",
    "    'leaf_size': [1, 10, 15, 20, 25, 30]\n",
    "}"
   ]
  },
  {
   "cell_type": "code",
   "execution_count": 51,
   "metadata": {},
   "outputs": [],
   "source": [
    "knn = KNeighborsClassifier()"
   ]
  },
  {
   "cell_type": "code",
   "execution_count": 52,
   "metadata": {},
   "outputs": [],
   "source": [
    "g = GridSearchCV(knn, param_grid, cv=5, return_train_score=True)"
   ]
  },
  {
   "cell_type": "code",
   "execution_count": 53,
   "metadata": {},
   "outputs": [
    {
     "data": {
      "text/plain": [
       "GridSearchCV(cv=5, error_score='raise-deprecating',\n",
       "       estimator=KNeighborsClassifier(algorithm='auto', leaf_size=30, metric='minkowski',\n",
       "           metric_params=None, n_jobs=None, n_neighbors=5, p=2,\n",
       "           weights='uniform'),\n",
       "       fit_params=None, iid='warn', n_jobs=None,\n",
       "       param_grid={'n_neighbors': [1, 2, 3, 4, 5, 6], 'weights': ['uniform', 'distance'], 'leaf_size': [1, 10, 15, 20, 25, 30]},\n",
       "       pre_dispatch='2*n_jobs', refit=True, return_train_score=True,\n",
       "       scoring=None, verbose=0)"
      ]
     },
     "execution_count": 53,
     "metadata": {},
     "output_type": "execute_result"
    }
   ],
   "source": [
    "g.fit(X, y)"
   ]
  },
  {
   "cell_type": "code",
   "execution_count": 54,
   "metadata": {},
   "outputs": [
    {
     "data": {
      "text/plain": [
       "{'mean_fit_time': array([0.00547733, 0.00553684, 0.00462937, 0.00507874, 0.00356956,\n",
       "        0.00445738, 0.00466242, 0.00327716, 0.00308666, 0.0033524 ,\n",
       "        0.00355215, 0.00361876, 0.00437679, 0.00384059, 0.00431204,\n",
       "        0.00263705, 0.0026978 , 0.00189538, 0.00189638, 0.00192118,\n",
       "        0.00191126, 0.00223031, 0.00356789, 0.0020812 , 0.0018857 ,\n",
       "        0.00189056, 0.00191846, 0.00181694, 0.00203948, 0.00478125,\n",
       "        0.00575104, 0.00839543, 0.00698638, 0.00353518, 0.00333633,\n",
       "        0.00293198, 0.00288143, 0.00392547, 0.00430007, 0.00385065,\n",
       "        0.00361238, 0.00353899, 0.00301743, 0.00361104, 0.00438051,\n",
       "        0.00381103, 0.00219178, 0.00249972, 0.00428638, 0.00397944,\n",
       "        0.00354438, 0.00370483, 0.00284538, 0.00342474, 0.00499492,\n",
       "        0.00421643, 0.00362029, 0.00350585, 0.003405  , 0.00321298,\n",
       "        0.00385442, 0.00367508, 0.00315542, 0.00349855, 0.00317678,\n",
       "        0.00365624, 0.00446548, 0.00405107, 0.00509515, 0.0022625 ,\n",
       "        0.00269842, 0.00213985]),\n",
       " 'std_fit_time': array([1.57779856e-03, 2.56204114e-03, 1.04395000e-03, 1.09932576e-03,\n",
       "        5.58023712e-04, 6.60866173e-04, 1.50265463e-03, 2.06146945e-04,\n",
       "        5.18559359e-04, 8.70490426e-04, 6.19496009e-04, 3.16140569e-04,\n",
       "        7.56113520e-04, 7.44670265e-04, 7.64382384e-04, 5.81348721e-04,\n",
       "        5.87197645e-04, 9.80783909e-05, 1.08663122e-04, 1.20402185e-04,\n",
       "        1.63237706e-04, 3.95223901e-04, 7.77094604e-04, 3.23498867e-04,\n",
       "        1.57864242e-04, 1.51904378e-04, 1.01625689e-04, 5.41955166e-05,\n",
       "        2.33809183e-04, 2.02558944e-03, 8.20787608e-04, 4.12436683e-03,\n",
       "        3.00119870e-03, 6.63340382e-04, 7.40108331e-04, 3.08187148e-04,\n",
       "        2.77746188e-04, 6.99243292e-04, 5.77527587e-04, 6.10884408e-04,\n",
       "        6.04277514e-04, 8.62120983e-04, 6.46776954e-04, 1.02669186e-03,\n",
       "        1.20279023e-03, 1.14652540e-03, 1.95085090e-04, 9.49700715e-04,\n",
       "        4.83607733e-04, 5.21910784e-04, 6.97301126e-04, 4.58013878e-04,\n",
       "        3.24609591e-04, 3.19070895e-04, 1.63119982e-03, 1.08023486e-03,\n",
       "        9.13539303e-04, 8.80960084e-04, 5.70822389e-04, 4.02672377e-04,\n",
       "        2.90921613e-04, 5.61654536e-04, 2.57726554e-04, 9.63429034e-04,\n",
       "        7.27117264e-04, 6.65825272e-04, 1.19239790e-03, 9.79245466e-04,\n",
       "        1.05838023e-03, 6.01386650e-04, 3.82511029e-04, 1.96611612e-04]),\n",
       " 'mean_score_time': array([0.00617685, 0.00361938, 0.00744686, 0.0043036 , 0.00565634,\n",
       "        0.00348897, 0.00605764, 0.0027256 , 0.00438824, 0.00276976,\n",
       "        0.00478544, 0.00344653, 0.00622797, 0.00449142, 0.00823278,\n",
       "        0.00224595, 0.00349202, 0.00156021, 0.00252757, 0.00154562,\n",
       "        0.00257092, 0.00186834, 0.00415893, 0.00172644, 0.0025012 ,\n",
       "        0.00163889, 0.00245433, 0.00159459, 0.00308576, 0.00390744,\n",
       "        0.00653472, 0.00795374, 0.00788045, 0.00317364, 0.00462146,\n",
       "        0.00261402, 0.00437198, 0.0036314 , 0.00529699, 0.00299025,\n",
       "        0.00489302, 0.00290961, 0.00455627, 0.00331116, 0.00426245,\n",
       "        0.00302815, 0.00284181, 0.00264225, 0.00571156, 0.00386496,\n",
       "        0.00560422, 0.00299759, 0.00409489, 0.00277381, 0.00644722,\n",
       "        0.00333781, 0.00391946, 0.00247035, 0.00462222, 0.00308075,\n",
       "        0.00417199, 0.00283756, 0.00455246, 0.00237241, 0.00429859,\n",
       "        0.00320649, 0.00539193, 0.00424814, 0.00681653, 0.00218844,\n",
       "        0.00334187, 0.00179195]),\n",
       " 'std_score_time': array([1.46957091e-03, 2.18722177e-03, 2.32459458e-03, 9.70382358e-04,\n",
       "        2.18515819e-03, 2.65133869e-04, 1.68612268e-03, 2.72095416e-04,\n",
       "        7.74616858e-04, 8.63495606e-04, 3.61097594e-04, 5.42823835e-04,\n",
       "        1.10960711e-03, 1.82710366e-03, 3.15544861e-03, 3.37382201e-04,\n",
       "        1.01912742e-03, 4.27733828e-05, 1.99647487e-04, 3.13747980e-05,\n",
       "        2.13307782e-04, 5.38783169e-04, 8.54717676e-04, 1.65612307e-04,\n",
       "        2.22622058e-04, 1.47442722e-04, 1.52943569e-04, 1.38593391e-04,\n",
       "        8.61135439e-04, 6.54500646e-04, 1.74237377e-03, 2.17596121e-03,\n",
       "        2.56164404e-03, 2.31542442e-04, 6.12464065e-04, 8.39297065e-05,\n",
       "        7.78041042e-04, 4.99139494e-04, 1.10146788e-03, 8.04083121e-04,\n",
       "        5.77962740e-04, 5.87207515e-04, 7.28084804e-04, 9.36242652e-04,\n",
       "        1.57044875e-03, 1.28817203e-03, 5.60383800e-04, 9.52516265e-04,\n",
       "        6.74595888e-04, 1.54787771e-03, 2.52755671e-03, 4.77061276e-04,\n",
       "        4.64309771e-04, 1.80896860e-04, 1.39154022e-03, 1.16586747e-03,\n",
       "        8.40669855e-04, 8.40438181e-04, 7.80923000e-04, 4.42433778e-04,\n",
       "        4.18001382e-04, 5.08497245e-04, 8.67322718e-04, 1.56832068e-04,\n",
       "        6.42189790e-04, 5.40392211e-04, 8.69510206e-04, 9.30041559e-04,\n",
       "        2.06514424e-03, 7.82602629e-04, 1.16178278e-03, 1.89992114e-04]),\n",
       " 'param_leaf_size': masked_array(data=[1, 1, 1, 1, 1, 1, 1, 1, 1, 1, 1, 1, 10, 10, 10, 10, 10,\n",
       "                    10, 10, 10, 10, 10, 10, 10, 15, 15, 15, 15, 15, 15, 15,\n",
       "                    15, 15, 15, 15, 15, 20, 20, 20, 20, 20, 20, 20, 20, 20,\n",
       "                    20, 20, 20, 25, 25, 25, 25, 25, 25, 25, 25, 25, 25, 25,\n",
       "                    25, 30, 30, 30, 30, 30, 30, 30, 30, 30, 30, 30, 30],\n",
       "              mask=[False, False, False, False, False, False, False, False,\n",
       "                    False, False, False, False, False, False, False, False,\n",
       "                    False, False, False, False, False, False, False, False,\n",
       "                    False, False, False, False, False, False, False, False,\n",
       "                    False, False, False, False, False, False, False, False,\n",
       "                    False, False, False, False, False, False, False, False,\n",
       "                    False, False, False, False, False, False, False, False,\n",
       "                    False, False, False, False, False, False, False, False,\n",
       "                    False, False, False, False, False, False, False, False],\n",
       "        fill_value='?',\n",
       "             dtype=object),\n",
       " 'param_n_neighbors': masked_array(data=[1, 1, 2, 2, 3, 3, 4, 4, 5, 5, 6, 6, 1, 1, 2, 2, 3, 3,\n",
       "                    4, 4, 5, 5, 6, 6, 1, 1, 2, 2, 3, 3, 4, 4, 5, 5, 6, 6,\n",
       "                    1, 1, 2, 2, 3, 3, 4, 4, 5, 5, 6, 6, 1, 1, 2, 2, 3, 3,\n",
       "                    4, 4, 5, 5, 6, 6, 1, 1, 2, 2, 3, 3, 4, 4, 5, 5, 6, 6],\n",
       "              mask=[False, False, False, False, False, False, False, False,\n",
       "                    False, False, False, False, False, False, False, False,\n",
       "                    False, False, False, False, False, False, False, False,\n",
       "                    False, False, False, False, False, False, False, False,\n",
       "                    False, False, False, False, False, False, False, False,\n",
       "                    False, False, False, False, False, False, False, False,\n",
       "                    False, False, False, False, False, False, False, False,\n",
       "                    False, False, False, False, False, False, False, False,\n",
       "                    False, False, False, False, False, False, False, False],\n",
       "        fill_value='?',\n",
       "             dtype=object),\n",
       " 'param_weights': masked_array(data=['uniform', 'distance', 'uniform', 'distance',\n",
       "                    'uniform', 'distance', 'uniform', 'distance',\n",
       "                    'uniform', 'distance', 'uniform', 'distance',\n",
       "                    'uniform', 'distance', 'uniform', 'distance',\n",
       "                    'uniform', 'distance', 'uniform', 'distance',\n",
       "                    'uniform', 'distance', 'uniform', 'distance',\n",
       "                    'uniform', 'distance', 'uniform', 'distance',\n",
       "                    'uniform', 'distance', 'uniform', 'distance',\n",
       "                    'uniform', 'distance', 'uniform', 'distance',\n",
       "                    'uniform', 'distance', 'uniform', 'distance',\n",
       "                    'uniform', 'distance', 'uniform', 'distance',\n",
       "                    'uniform', 'distance', 'uniform', 'distance',\n",
       "                    'uniform', 'distance', 'uniform', 'distance',\n",
       "                    'uniform', 'distance', 'uniform', 'distance',\n",
       "                    'uniform', 'distance', 'uniform', 'distance',\n",
       "                    'uniform', 'distance', 'uniform', 'distance',\n",
       "                    'uniform', 'distance', 'uniform', 'distance',\n",
       "                    'uniform', 'distance', 'uniform', 'distance'],\n",
       "              mask=[False, False, False, False, False, False, False, False,\n",
       "                    False, False, False, False, False, False, False, False,\n",
       "                    False, False, False, False, False, False, False, False,\n",
       "                    False, False, False, False, False, False, False, False,\n",
       "                    False, False, False, False, False, False, False, False,\n",
       "                    False, False, False, False, False, False, False, False,\n",
       "                    False, False, False, False, False, False, False, False,\n",
       "                    False, False, False, False, False, False, False, False,\n",
       "                    False, False, False, False, False, False, False, False],\n",
       "        fill_value='?',\n",
       "             dtype=object),\n",
       " 'params': [{'leaf_size': 1, 'n_neighbors': 1, 'weights': 'uniform'},\n",
       "  {'leaf_size': 1, 'n_neighbors': 1, 'weights': 'distance'},\n",
       "  {'leaf_size': 1, 'n_neighbors': 2, 'weights': 'uniform'},\n",
       "  {'leaf_size': 1, 'n_neighbors': 2, 'weights': 'distance'},\n",
       "  {'leaf_size': 1, 'n_neighbors': 3, 'weights': 'uniform'},\n",
       "  {'leaf_size': 1, 'n_neighbors': 3, 'weights': 'distance'},\n",
       "  {'leaf_size': 1, 'n_neighbors': 4, 'weights': 'uniform'},\n",
       "  {'leaf_size': 1, 'n_neighbors': 4, 'weights': 'distance'},\n",
       "  {'leaf_size': 1, 'n_neighbors': 5, 'weights': 'uniform'},\n",
       "  {'leaf_size': 1, 'n_neighbors': 5, 'weights': 'distance'},\n",
       "  {'leaf_size': 1, 'n_neighbors': 6, 'weights': 'uniform'},\n",
       "  {'leaf_size': 1, 'n_neighbors': 6, 'weights': 'distance'},\n",
       "  {'leaf_size': 10, 'n_neighbors': 1, 'weights': 'uniform'},\n",
       "  {'leaf_size': 10, 'n_neighbors': 1, 'weights': 'distance'},\n",
       "  {'leaf_size': 10, 'n_neighbors': 2, 'weights': 'uniform'},\n",
       "  {'leaf_size': 10, 'n_neighbors': 2, 'weights': 'distance'},\n",
       "  {'leaf_size': 10, 'n_neighbors': 3, 'weights': 'uniform'},\n",
       "  {'leaf_size': 10, 'n_neighbors': 3, 'weights': 'distance'},\n",
       "  {'leaf_size': 10, 'n_neighbors': 4, 'weights': 'uniform'},\n",
       "  {'leaf_size': 10, 'n_neighbors': 4, 'weights': 'distance'},\n",
       "  {'leaf_size': 10, 'n_neighbors': 5, 'weights': 'uniform'},\n",
       "  {'leaf_size': 10, 'n_neighbors': 5, 'weights': 'distance'},\n",
       "  {'leaf_size': 10, 'n_neighbors': 6, 'weights': 'uniform'},\n",
       "  {'leaf_size': 10, 'n_neighbors': 6, 'weights': 'distance'},\n",
       "  {'leaf_size': 15, 'n_neighbors': 1, 'weights': 'uniform'},\n",
       "  {'leaf_size': 15, 'n_neighbors': 1, 'weights': 'distance'},\n",
       "  {'leaf_size': 15, 'n_neighbors': 2, 'weights': 'uniform'},\n",
       "  {'leaf_size': 15, 'n_neighbors': 2, 'weights': 'distance'},\n",
       "  {'leaf_size': 15, 'n_neighbors': 3, 'weights': 'uniform'},\n",
       "  {'leaf_size': 15, 'n_neighbors': 3, 'weights': 'distance'},\n",
       "  {'leaf_size': 15, 'n_neighbors': 4, 'weights': 'uniform'},\n",
       "  {'leaf_size': 15, 'n_neighbors': 4, 'weights': 'distance'},\n",
       "  {'leaf_size': 15, 'n_neighbors': 5, 'weights': 'uniform'},\n",
       "  {'leaf_size': 15, 'n_neighbors': 5, 'weights': 'distance'},\n",
       "  {'leaf_size': 15, 'n_neighbors': 6, 'weights': 'uniform'},\n",
       "  {'leaf_size': 15, 'n_neighbors': 6, 'weights': 'distance'},\n",
       "  {'leaf_size': 20, 'n_neighbors': 1, 'weights': 'uniform'},\n",
       "  {'leaf_size': 20, 'n_neighbors': 1, 'weights': 'distance'},\n",
       "  {'leaf_size': 20, 'n_neighbors': 2, 'weights': 'uniform'},\n",
       "  {'leaf_size': 20, 'n_neighbors': 2, 'weights': 'distance'},\n",
       "  {'leaf_size': 20, 'n_neighbors': 3, 'weights': 'uniform'},\n",
       "  {'leaf_size': 20, 'n_neighbors': 3, 'weights': 'distance'},\n",
       "  {'leaf_size': 20, 'n_neighbors': 4, 'weights': 'uniform'},\n",
       "  {'leaf_size': 20, 'n_neighbors': 4, 'weights': 'distance'},\n",
       "  {'leaf_size': 20, 'n_neighbors': 5, 'weights': 'uniform'},\n",
       "  {'leaf_size': 20, 'n_neighbors': 5, 'weights': 'distance'},\n",
       "  {'leaf_size': 20, 'n_neighbors': 6, 'weights': 'uniform'},\n",
       "  {'leaf_size': 20, 'n_neighbors': 6, 'weights': 'distance'},\n",
       "  {'leaf_size': 25, 'n_neighbors': 1, 'weights': 'uniform'},\n",
       "  {'leaf_size': 25, 'n_neighbors': 1, 'weights': 'distance'},\n",
       "  {'leaf_size': 25, 'n_neighbors': 2, 'weights': 'uniform'},\n",
       "  {'leaf_size': 25, 'n_neighbors': 2, 'weights': 'distance'},\n",
       "  {'leaf_size': 25, 'n_neighbors': 3, 'weights': 'uniform'},\n",
       "  {'leaf_size': 25, 'n_neighbors': 3, 'weights': 'distance'},\n",
       "  {'leaf_size': 25, 'n_neighbors': 4, 'weights': 'uniform'},\n",
       "  {'leaf_size': 25, 'n_neighbors': 4, 'weights': 'distance'},\n",
       "  {'leaf_size': 25, 'n_neighbors': 5, 'weights': 'uniform'},\n",
       "  {'leaf_size': 25, 'n_neighbors': 5, 'weights': 'distance'},\n",
       "  {'leaf_size': 25, 'n_neighbors': 6, 'weights': 'uniform'},\n",
       "  {'leaf_size': 25, 'n_neighbors': 6, 'weights': 'distance'},\n",
       "  {'leaf_size': 30, 'n_neighbors': 1, 'weights': 'uniform'},\n",
       "  {'leaf_size': 30, 'n_neighbors': 1, 'weights': 'distance'},\n",
       "  {'leaf_size': 30, 'n_neighbors': 2, 'weights': 'uniform'},\n",
       "  {'leaf_size': 30, 'n_neighbors': 2, 'weights': 'distance'},\n",
       "  {'leaf_size': 30, 'n_neighbors': 3, 'weights': 'uniform'},\n",
       "  {'leaf_size': 30, 'n_neighbors': 3, 'weights': 'distance'},\n",
       "  {'leaf_size': 30, 'n_neighbors': 4, 'weights': 'uniform'},\n",
       "  {'leaf_size': 30, 'n_neighbors': 4, 'weights': 'distance'},\n",
       "  {'leaf_size': 30, 'n_neighbors': 5, 'weights': 'uniform'},\n",
       "  {'leaf_size': 30, 'n_neighbors': 5, 'weights': 'distance'},\n",
       "  {'leaf_size': 30, 'n_neighbors': 6, 'weights': 'uniform'},\n",
       "  {'leaf_size': 30, 'n_neighbors': 6, 'weights': 'distance'}],\n",
       " 'split0_test_score': array([0.96666667, 0.96666667, 0.96666667, 0.96666667, 0.96666667,\n",
       "        0.96666667, 0.96666667, 0.96666667, 0.96666667, 0.96666667,\n",
       "        0.96666667, 0.96666667, 0.96666667, 0.96666667, 0.96666667,\n",
       "        0.96666667, 0.96666667, 0.96666667, 0.96666667, 0.96666667,\n",
       "        0.96666667, 0.96666667, 0.96666667, 0.96666667, 0.96666667,\n",
       "        0.96666667, 0.96666667, 0.96666667, 0.96666667, 0.96666667,\n",
       "        0.96666667, 0.96666667, 0.96666667, 0.96666667, 0.96666667,\n",
       "        0.96666667, 0.96666667, 0.96666667, 0.96666667, 0.96666667,\n",
       "        0.96666667, 0.96666667, 0.96666667, 0.96666667, 0.96666667,\n",
       "        0.96666667, 0.96666667, 0.96666667, 0.96666667, 0.96666667,\n",
       "        0.96666667, 0.96666667, 0.96666667, 0.96666667, 0.96666667,\n",
       "        0.96666667, 0.96666667, 0.96666667, 0.96666667, 0.96666667,\n",
       "        0.96666667, 0.96666667, 0.96666667, 0.96666667, 0.96666667,\n",
       "        0.96666667, 0.96666667, 0.96666667, 0.96666667, 0.96666667,\n",
       "        0.96666667, 0.96666667]),\n",
       " 'split1_test_score': array([0.96666667, 0.96666667, 0.93333333, 0.96666667, 0.96666667,\n",
       "        0.96666667, 0.96666667, 0.96666667, 1.        , 1.        ,\n",
       "        1.        , 1.        , 0.96666667, 0.96666667, 0.93333333,\n",
       "        0.96666667, 0.96666667, 0.96666667, 0.96666667, 0.96666667,\n",
       "        1.        , 1.        , 1.        , 1.        , 0.96666667,\n",
       "        0.96666667, 0.93333333, 0.96666667, 0.96666667, 0.96666667,\n",
       "        0.96666667, 0.96666667, 1.        , 1.        , 1.        ,\n",
       "        1.        , 0.96666667, 0.96666667, 0.93333333, 0.96666667,\n",
       "        0.96666667, 0.96666667, 0.96666667, 0.96666667, 1.        ,\n",
       "        1.        , 1.        , 1.        , 0.96666667, 0.96666667,\n",
       "        0.93333333, 0.96666667, 0.96666667, 0.96666667, 0.96666667,\n",
       "        0.96666667, 1.        , 1.        , 1.        , 1.        ,\n",
       "        0.96666667, 0.96666667, 0.93333333, 0.96666667, 0.96666667,\n",
       "        0.96666667, 0.96666667, 0.96666667, 1.        , 1.        ,\n",
       "        1.        , 1.        ]),\n",
       " 'split2_test_score': array([0.93333333, 0.93333333, 0.93333333, 0.93333333, 0.93333333,\n",
       "        0.93333333, 0.96666667, 0.93333333, 0.93333333, 0.9       ,\n",
       "        0.96666667, 0.96666667, 0.93333333, 0.93333333, 0.93333333,\n",
       "        0.93333333, 0.93333333, 0.93333333, 0.96666667, 0.93333333,\n",
       "        0.93333333, 0.9       , 0.96666667, 0.96666667, 0.93333333,\n",
       "        0.93333333, 0.93333333, 0.93333333, 0.93333333, 0.93333333,\n",
       "        0.96666667, 0.93333333, 0.93333333, 0.9       , 0.96666667,\n",
       "        0.96666667, 0.93333333, 0.93333333, 0.93333333, 0.93333333,\n",
       "        0.93333333, 0.93333333, 0.96666667, 0.93333333, 0.93333333,\n",
       "        0.9       , 0.96666667, 0.96666667, 0.93333333, 0.93333333,\n",
       "        0.93333333, 0.93333333, 0.93333333, 0.93333333, 0.96666667,\n",
       "        0.93333333, 0.93333333, 0.9       , 0.96666667, 0.96666667,\n",
       "        0.93333333, 0.93333333, 0.93333333, 0.93333333, 0.93333333,\n",
       "        0.93333333, 0.96666667, 0.93333333, 0.93333333, 0.9       ,\n",
       "        0.96666667, 0.96666667]),\n",
       " 'split3_test_score': array([0.93333333, 0.93333333, 0.9       , 0.93333333, 0.96666667,\n",
       "        0.96666667, 0.96666667, 0.96666667, 0.96666667, 0.96666667,\n",
       "        0.96666667, 0.96666667, 0.93333333, 0.93333333, 0.9       ,\n",
       "        0.93333333, 0.96666667, 0.96666667, 0.96666667, 0.96666667,\n",
       "        0.96666667, 0.96666667, 0.96666667, 0.96666667, 0.93333333,\n",
       "        0.93333333, 0.9       , 0.93333333, 0.96666667, 0.96666667,\n",
       "        0.96666667, 0.96666667, 0.96666667, 0.96666667, 0.96666667,\n",
       "        0.96666667, 0.93333333, 0.93333333, 0.9       , 0.93333333,\n",
       "        0.96666667, 0.96666667, 0.96666667, 0.96666667, 0.96666667,\n",
       "        0.96666667, 0.96666667, 0.96666667, 0.93333333, 0.93333333,\n",
       "        0.9       , 0.93333333, 0.96666667, 0.96666667, 0.96666667,\n",
       "        0.96666667, 0.96666667, 0.96666667, 0.96666667, 0.96666667,\n",
       "        0.93333333, 0.93333333, 0.9       , 0.93333333, 0.96666667,\n",
       "        0.96666667, 0.96666667, 0.96666667, 0.96666667, 0.96666667,\n",
       "        0.96666667, 0.96666667]),\n",
       " 'split4_test_score': array([1., 1., 1., 1., 1., 1., 1., 1., 1., 1., 1., 1., 1., 1., 1., 1., 1.,\n",
       "        1., 1., 1., 1., 1., 1., 1., 1., 1., 1., 1., 1., 1., 1., 1., 1., 1.,\n",
       "        1., 1., 1., 1., 1., 1., 1., 1., 1., 1., 1., 1., 1., 1., 1., 1., 1.,\n",
       "        1., 1., 1., 1., 1., 1., 1., 1., 1., 1., 1., 1., 1., 1., 1., 1., 1.,\n",
       "        1., 1., 1., 1.]),\n",
       " 'mean_test_score': array([0.96      , 0.96      , 0.94666667, 0.96      , 0.96666667,\n",
       "        0.96666667, 0.97333333, 0.96666667, 0.97333333, 0.96666667,\n",
       "        0.98      , 0.98      , 0.96      , 0.96      , 0.94666667,\n",
       "        0.96      , 0.96666667, 0.96666667, 0.97333333, 0.96666667,\n",
       "        0.97333333, 0.96666667, 0.98      , 0.98      , 0.96      ,\n",
       "        0.96      , 0.94666667, 0.96      , 0.96666667, 0.96666667,\n",
       "        0.97333333, 0.96666667, 0.97333333, 0.96666667, 0.98      ,\n",
       "        0.98      , 0.96      , 0.96      , 0.94666667, 0.96      ,\n",
       "        0.96666667, 0.96666667, 0.97333333, 0.96666667, 0.97333333,\n",
       "        0.96666667, 0.98      , 0.98      , 0.96      , 0.96      ,\n",
       "        0.94666667, 0.96      , 0.96666667, 0.96666667, 0.97333333,\n",
       "        0.96666667, 0.97333333, 0.96666667, 0.98      , 0.98      ,\n",
       "        0.96      , 0.96      , 0.94666667, 0.96      , 0.96666667,\n",
       "        0.96666667, 0.97333333, 0.96666667, 0.97333333, 0.96666667,\n",
       "        0.98      , 0.98      ]),\n",
       " 'std_test_score': array([0.02494438, 0.02494438, 0.03399346, 0.02494438, 0.02108185,\n",
       "        0.02108185, 0.01333333, 0.02108185, 0.02494438, 0.03651484,\n",
       "        0.01632993, 0.01632993, 0.02494438, 0.02494438, 0.03399346,\n",
       "        0.02494438, 0.02108185, 0.02108185, 0.01333333, 0.02108185,\n",
       "        0.02494438, 0.03651484, 0.01632993, 0.01632993, 0.02494438,\n",
       "        0.02494438, 0.03399346, 0.02494438, 0.02108185, 0.02108185,\n",
       "        0.01333333, 0.02108185, 0.02494438, 0.03651484, 0.01632993,\n",
       "        0.01632993, 0.02494438, 0.02494438, 0.03399346, 0.02494438,\n",
       "        0.02108185, 0.02108185, 0.01333333, 0.02108185, 0.02494438,\n",
       "        0.03651484, 0.01632993, 0.01632993, 0.02494438, 0.02494438,\n",
       "        0.03399346, 0.02494438, 0.02108185, 0.02108185, 0.01333333,\n",
       "        0.02108185, 0.02494438, 0.03651484, 0.01632993, 0.01632993,\n",
       "        0.02494438, 0.02494438, 0.03399346, 0.02494438, 0.02108185,\n",
       "        0.02108185, 0.01333333, 0.02108185, 0.02494438, 0.03651484,\n",
       "        0.01632993, 0.01632993]),\n",
       " 'rank_test_score': array([49, 49, 67, 49, 25, 25, 13, 25, 13, 25,  1,  1, 49, 49, 67, 49, 25,\n",
       "        25, 13, 25, 13, 25,  1,  1, 49, 49, 67, 49, 25, 25, 13, 25, 13, 25,\n",
       "         1,  1, 49, 49, 67, 49, 25, 25, 13, 25, 13, 25,  1,  1, 49, 49, 67,\n",
       "        49, 25, 25, 13, 25, 13, 25,  1,  1, 49, 49, 67, 49, 25, 25, 13, 25,\n",
       "        13, 25,  1,  1], dtype=int32),\n",
       " 'split0_train_score': array([1.        , 1.        , 0.975     , 1.        , 0.95833333,\n",
       "        1.        , 0.95833333, 1.        , 0.96666667, 1.        ,\n",
       "        0.96666667, 1.        , 1.        , 1.        , 0.975     ,\n",
       "        1.        , 0.95833333, 1.        , 0.95833333, 1.        ,\n",
       "        0.96666667, 1.        , 0.96666667, 1.        , 1.        ,\n",
       "        1.        , 0.975     , 1.        , 0.95833333, 1.        ,\n",
       "        0.95833333, 1.        , 0.96666667, 1.        , 0.96666667,\n",
       "        1.        , 1.        , 1.        , 0.975     , 1.        ,\n",
       "        0.95833333, 1.        , 0.95833333, 1.        , 0.96666667,\n",
       "        1.        , 0.96666667, 1.        , 1.        , 1.        ,\n",
       "        0.975     , 1.        , 0.95833333, 1.        , 0.95833333,\n",
       "        1.        , 0.96666667, 1.        , 0.96666667, 1.        ,\n",
       "        1.        , 1.        , 0.975     , 1.        , 0.95833333,\n",
       "        1.        , 0.95833333, 1.        , 0.96666667, 1.        ,\n",
       "        0.96666667, 1.        ]),\n",
       " 'split1_train_score': array([1.        , 1.        , 0.98333333, 1.        , 0.95833333,\n",
       "        1.        , 0.95833333, 1.        , 0.96666667, 1.        ,\n",
       "        0.975     , 1.        , 1.        , 1.        , 0.98333333,\n",
       "        1.        , 0.95833333, 1.        , 0.95833333, 1.        ,\n",
       "        0.96666667, 1.        , 0.975     , 1.        , 1.        ,\n",
       "        1.        , 0.98333333, 1.        , 0.95833333, 1.        ,\n",
       "        0.95833333, 1.        , 0.96666667, 1.        , 0.975     ,\n",
       "        1.        , 1.        , 1.        , 0.98333333, 1.        ,\n",
       "        0.95833333, 1.        , 0.95833333, 1.        , 0.96666667,\n",
       "        1.        , 0.975     , 1.        , 1.        , 1.        ,\n",
       "        0.98333333, 1.        , 0.95833333, 1.        , 0.95833333,\n",
       "        1.        , 0.96666667, 1.        , 0.975     , 1.        ,\n",
       "        1.        , 1.        , 0.98333333, 1.        , 0.95833333,\n",
       "        1.        , 0.95833333, 1.        , 0.96666667, 1.        ,\n",
       "        0.975     , 1.        ]),\n",
       " 'split2_train_score': array([1.        , 1.        , 0.975     , 1.        , 0.96666667,\n",
       "        1.        , 0.95833333, 1.        , 0.975     , 1.        ,\n",
       "        0.975     , 1.        , 1.        , 1.        , 0.975     ,\n",
       "        1.        , 0.96666667, 1.        , 0.95833333, 1.        ,\n",
       "        0.975     , 1.        , 0.975     , 1.        , 1.        ,\n",
       "        1.        , 0.975     , 1.        , 0.96666667, 1.        ,\n",
       "        0.95833333, 1.        , 0.975     , 1.        , 0.975     ,\n",
       "        1.        , 1.        , 1.        , 0.975     , 1.        ,\n",
       "        0.96666667, 1.        , 0.95833333, 1.        , 0.975     ,\n",
       "        1.        , 0.975     , 1.        , 1.        , 1.        ,\n",
       "        0.975     , 1.        , 0.96666667, 1.        , 0.95833333,\n",
       "        1.        , 0.975     , 1.        , 0.975     , 1.        ,\n",
       "        1.        , 1.        , 0.975     , 1.        , 0.96666667,\n",
       "        1.        , 0.95833333, 1.        , 0.975     , 1.        ,\n",
       "        0.975     , 1.        ]),\n",
       " 'split3_train_score': array([1.        , 1.        , 0.98333333, 1.        , 0.96666667,\n",
       "        1.        , 0.975     , 1.        , 0.975     , 1.        ,\n",
       "        0.98333333, 1.        , 1.        , 1.        , 0.98333333,\n",
       "        1.        , 0.96666667, 1.        , 0.975     , 1.        ,\n",
       "        0.975     , 1.        , 0.98333333, 1.        , 1.        ,\n",
       "        1.        , 0.98333333, 1.        , 0.96666667, 1.        ,\n",
       "        0.975     , 1.        , 0.975     , 1.        , 0.98333333,\n",
       "        1.        , 1.        , 1.        , 0.98333333, 1.        ,\n",
       "        0.96666667, 1.        , 0.975     , 1.        , 0.975     ,\n",
       "        1.        , 0.98333333, 1.        , 1.        , 1.        ,\n",
       "        0.98333333, 1.        , 0.96666667, 1.        , 0.975     ,\n",
       "        1.        , 0.975     , 1.        , 0.98333333, 1.        ,\n",
       "        1.        , 1.        , 0.98333333, 1.        , 0.96666667,\n",
       "        1.        , 0.975     , 1.        , 0.975     , 1.        ,\n",
       "        0.98333333, 1.        ]),\n",
       " 'split4_train_score': array([1.        , 1.        , 0.975     , 1.        , 0.95      ,\n",
       "        1.        , 0.96666667, 1.        , 0.96666667, 1.        ,\n",
       "        0.96666667, 1.        , 1.        , 1.        , 0.975     ,\n",
       "        1.        , 0.95      , 1.        , 0.96666667, 1.        ,\n",
       "        0.96666667, 1.        , 0.96666667, 1.        , 1.        ,\n",
       "        1.        , 0.975     , 1.        , 0.95      , 1.        ,\n",
       "        0.96666667, 1.        , 0.96666667, 1.        , 0.96666667,\n",
       "        1.        , 1.        , 1.        , 0.975     , 1.        ,\n",
       "        0.95      , 1.        , 0.96666667, 1.        , 0.96666667,\n",
       "        1.        , 0.96666667, 1.        , 1.        , 1.        ,\n",
       "        0.975     , 1.        , 0.95      , 1.        , 0.96666667,\n",
       "        1.        , 0.96666667, 1.        , 0.96666667, 1.        ,\n",
       "        1.        , 1.        , 0.975     , 1.        , 0.95      ,\n",
       "        1.        , 0.96666667, 1.        , 0.96666667, 1.        ,\n",
       "        0.96666667, 1.        ]),\n",
       " 'mean_train_score': array([1.        , 1.        , 0.97833333, 1.        , 0.96      ,\n",
       "        1.        , 0.96333333, 1.        , 0.97      , 1.        ,\n",
       "        0.97333333, 1.        , 1.        , 1.        , 0.97833333,\n",
       "        1.        , 0.96      , 1.        , 0.96333333, 1.        ,\n",
       "        0.97      , 1.        , 0.97333333, 1.        , 1.        ,\n",
       "        1.        , 0.97833333, 1.        , 0.96      , 1.        ,\n",
       "        0.96333333, 1.        , 0.97      , 1.        , 0.97333333,\n",
       "        1.        , 1.        , 1.        , 0.97833333, 1.        ,\n",
       "        0.96      , 1.        , 0.96333333, 1.        , 0.97      ,\n",
       "        1.        , 0.97333333, 1.        , 1.        , 1.        ,\n",
       "        0.97833333, 1.        , 0.96      , 1.        , 0.96333333,\n",
       "        1.        , 0.97      , 1.        , 0.97333333, 1.        ,\n",
       "        1.        , 1.        , 0.97833333, 1.        , 0.96      ,\n",
       "        1.        , 0.96333333, 1.        , 0.97      , 1.        ,\n",
       "        0.97333333, 1.        ]),\n",
       " 'std_train_score': array([0.        , 0.        , 0.00408248, 0.        , 0.0062361 ,\n",
       "        0.        , 0.00666667, 0.        , 0.00408248, 0.        ,\n",
       "        0.0062361 , 0.        , 0.        , 0.        , 0.00408248,\n",
       "        0.        , 0.0062361 , 0.        , 0.00666667, 0.        ,\n",
       "        0.00408248, 0.        , 0.0062361 , 0.        , 0.        ,\n",
       "        0.        , 0.00408248, 0.        , 0.0062361 , 0.        ,\n",
       "        0.00666667, 0.        , 0.00408248, 0.        , 0.0062361 ,\n",
       "        0.        , 0.        , 0.        , 0.00408248, 0.        ,\n",
       "        0.0062361 , 0.        , 0.00666667, 0.        , 0.00408248,\n",
       "        0.        , 0.0062361 , 0.        , 0.        , 0.        ,\n",
       "        0.00408248, 0.        , 0.0062361 , 0.        , 0.00666667,\n",
       "        0.        , 0.00408248, 0.        , 0.0062361 , 0.        ,\n",
       "        0.        , 0.        , 0.00408248, 0.        , 0.0062361 ,\n",
       "        0.        , 0.00666667, 0.        , 0.00408248, 0.        ,\n",
       "        0.0062361 , 0.        ])}"
      ]
     },
     "execution_count": 54,
     "metadata": {},
     "output_type": "execute_result"
    }
   ],
   "source": [
    "g.cv_results_"
   ]
  },
  {
   "cell_type": "code",
   "execution_count": 55,
   "metadata": {},
   "outputs": [
    {
     "data": {
      "text/plain": [
       "0.98"
      ]
     },
     "execution_count": 55,
     "metadata": {},
     "output_type": "execute_result"
    }
   ],
   "source": [
    "g.best_score_"
   ]
  },
  {
   "cell_type": "code",
   "execution_count": 56,
   "metadata": {},
   "outputs": [
    {
     "data": {
      "text/plain": [
       "{'leaf_size': 1, 'n_neighbors': 6, 'weights': 'uniform'}"
      ]
     },
     "execution_count": 56,
     "metadata": {},
     "output_type": "execute_result"
    }
   ],
   "source": [
    "g.best_params_"
   ]
  },
  {
   "cell_type": "code",
   "execution_count": 57,
   "metadata": {},
   "outputs": [],
   "source": [
    "from sklearn.preprocessing import scale"
   ]
  },
  {
   "cell_type": "code",
   "execution_count": 58,
   "metadata": {},
   "outputs": [],
   "source": [
    "selected_columns = ['sepal_length', 'sepal_width', 'petal_length', 'petal_width']"
   ]
  },
  {
   "cell_type": "code",
   "execution_count": 59,
   "metadata": {},
   "outputs": [],
   "source": [
    "X = df[selected_columns]"
   ]
  },
  {
   "cell_type": "code",
   "execution_count": 62,
   "metadata": {},
   "outputs": [],
   "source": [
    "X_new = scale(X)"
   ]
  },
  {
   "cell_type": "code",
   "execution_count": 63,
   "metadata": {},
   "outputs": [],
   "source": [
    "g = GridSearchCV(knn, param_grid, cv=5, return_train_score=True)"
   ]
  },
  {
   "cell_type": "code",
   "execution_count": 65,
   "metadata": {},
   "outputs": [
    {
     "data": {
      "text/plain": [
       "GridSearchCV(cv=5, error_score='raise-deprecating',\n",
       "       estimator=KNeighborsClassifier(algorithm='auto', leaf_size=30, metric='minkowski',\n",
       "           metric_params=None, n_jobs=None, n_neighbors=5, p=2,\n",
       "           weights='uniform'),\n",
       "       fit_params=None, iid='warn', n_jobs=None,\n",
       "       param_grid={'n_neighbors': [1, 2, 3, 4, 5, 6], 'weights': ['uniform', 'distance'], 'leaf_size': [1, 10, 15, 20, 25, 30]},\n",
       "       pre_dispatch='2*n_jobs', refit=True, return_train_score=True,\n",
       "       scoring=None, verbose=0)"
      ]
     },
     "execution_count": 65,
     "metadata": {},
     "output_type": "execute_result"
    }
   ],
   "source": [
    "g.fit(X_new, y)"
   ]
  },
  {
   "cell_type": "code",
   "execution_count": 66,
   "metadata": {},
   "outputs": [
    {
     "data": {
      "text/plain": [
       "0.9666666666666667"
      ]
     },
     "execution_count": 66,
     "metadata": {},
     "output_type": "execute_result"
    }
   ],
   "source": [
    "g.best_score_"
   ]
  },
  {
   "cell_type": "code",
   "execution_count": null,
   "metadata": {},
   "outputs": [],
   "source": []
  },
  {
   "cell_type": "code",
   "execution_count": null,
   "metadata": {},
   "outputs": [],
   "source": [
    "scale(df[])"
   ]
  }
 ],
 "metadata": {
  "kernelspec": {
   "display_name": "Python 3",
   "language": "python",
   "name": "python3"
  },
  "language_info": {
   "codemirror_mode": {
    "name": "ipython",
    "version": 3
   },
   "file_extension": ".py",
   "mimetype": "text/x-python",
   "name": "python",
   "nbconvert_exporter": "python",
   "pygments_lexer": "ipython3",
   "version": "3.7.2"
  }
 },
 "nbformat": 4,
 "nbformat_minor": 2
}
